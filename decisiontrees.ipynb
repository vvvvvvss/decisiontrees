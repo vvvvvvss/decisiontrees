{
  "metadata": {
    "kernelspec": {
      "name": "python",
      "display_name": "Python (Pyodide)",
      "language": "python"
    },
    "language_info": {
      "codemirror_mode": {
        "name": "python",
        "version": 3
      },
      "file_extension": ".py",
      "mimetype": "text/x-python",
      "name": "python",
      "nbconvert_exporter": "python",
      "pygments_lexer": "ipython3",
      "version": "3.8"
    }
  },
  "nbformat_minor": 5,
  "nbformat": 4,
  "cells": [
    {
      "id": "fe55883a-6887-43dd-9498-5333a51799e2",
      "cell_type": "code",
      "source": "import pandas as pd",
      "metadata": {
        "trusted": true
      },
      "outputs": [],
      "execution_count": 4
    },
    {
      "id": "b53bf97b-8b0d-4136-83ff-87fb675c9367",
      "cell_type": "code",
      "source": "df = pd.read_csv(\"ds_salaries.csv\")\ndf.head()",
      "metadata": {
        "trusted": true
      },
      "outputs": [
        {
          "execution_count": 5,
          "output_type": "execute_result",
          "data": {
            "text/plain": "   work_year experience_level employment_type                   job_title  \\\n0       2020               MI              FT              Data Scientist   \n1       2020               SE              FT  Machine Learning Scientist   \n2       2020               SE              FT           Big Data Engineer   \n3       2020               MI              FT        Product Data Analyst   \n4       2020               SE              FT   Machine Learning Engineer   \n\n   salary  remote_ratio company_location company_size  \n0   70000             0               DE            L  \n1  260000             0               JP            S  \n2   85000            50               GB            M  \n3   20000             0               HN            S  \n4  150000            50               US            L  ",
            "text/html": "<div>\n<style scoped>\n    .dataframe tbody tr th:only-of-type {\n        vertical-align: middle;\n    }\n\n    .dataframe tbody tr th {\n        vertical-align: top;\n    }\n\n    .dataframe thead th {\n        text-align: right;\n    }\n</style>\n<table border=\"1\" class=\"dataframe\">\n  <thead>\n    <tr style=\"text-align: right;\">\n      <th></th>\n      <th>work_year</th>\n      <th>experience_level</th>\n      <th>employment_type</th>\n      <th>job_title</th>\n      <th>salary</th>\n      <th>remote_ratio</th>\n      <th>company_location</th>\n      <th>company_size</th>\n    </tr>\n  </thead>\n  <tbody>\n    <tr>\n      <th>0</th>\n      <td>2020</td>\n      <td>MI</td>\n      <td>FT</td>\n      <td>Data Scientist</td>\n      <td>70000</td>\n      <td>0</td>\n      <td>DE</td>\n      <td>L</td>\n    </tr>\n    <tr>\n      <th>1</th>\n      <td>2020</td>\n      <td>SE</td>\n      <td>FT</td>\n      <td>Machine Learning Scientist</td>\n      <td>260000</td>\n      <td>0</td>\n      <td>JP</td>\n      <td>S</td>\n    </tr>\n    <tr>\n      <th>2</th>\n      <td>2020</td>\n      <td>SE</td>\n      <td>FT</td>\n      <td>Big Data Engineer</td>\n      <td>85000</td>\n      <td>50</td>\n      <td>GB</td>\n      <td>M</td>\n    </tr>\n    <tr>\n      <th>3</th>\n      <td>2020</td>\n      <td>MI</td>\n      <td>FT</td>\n      <td>Product Data Analyst</td>\n      <td>20000</td>\n      <td>0</td>\n      <td>HN</td>\n      <td>S</td>\n    </tr>\n    <tr>\n      <th>4</th>\n      <td>2020</td>\n      <td>SE</td>\n      <td>FT</td>\n      <td>Machine Learning Engineer</td>\n      <td>150000</td>\n      <td>50</td>\n      <td>US</td>\n      <td>L</td>\n    </tr>\n  </tbody>\n</table>\n</div>"
          },
          "metadata": {}
        }
      ],
      "execution_count": 5
    },
    {
      "id": "0ad760a9-33f7-4406-bee8-cd78b6470422",
      "cell_type": "code",
      "source": "inputs = df.drop('salary',axis='columns')",
      "metadata": {
        "trusted": true
      },
      "outputs": [],
      "execution_count": 6
    },
    {
      "id": "e16acd91-c3d3-431a-9418-4e614df62045",
      "cell_type": "code",
      "source": "target = df['salary']",
      "metadata": {
        "trusted": true
      },
      "outputs": [],
      "execution_count": 7
    },
    {
      "id": "1838a6c6-e7a6-4000-bcd0-25314ddb6928",
      "cell_type": "code",
      "source": "from sklearn.preprocessing import LabelEncoder\nwork = LabelEncoder()\nexperiencelevel = LabelEncoder()\nemploymenttype = LabelEncoder()\njobtitle = LabelEncoder()\nremoteratio = LabelEncoder()\ncompanyloc = LabelEncoder()\ncompanysize = LabelEncoder()\n",
      "metadata": {
        "trusted": true
      },
      "outputs": [],
      "execution_count": 8
    },
    {
      "id": "03a229d3-9d1b-4ae4-8547-4941c4c27f52",
      "cell_type": "code",
      "source": "inputs['work'] = work.fit_transform(inputs['work_year'])\ninputs['experiencelevel'] = experiencelevel.fit_transform(inputs['experience_level'])\ninputs['employmenttype'] = employmenttype.fit_transform(inputs['employment_type'])\ninputs['jobtitle'] = jobtitle.fit_transform(inputs['job_title'])\ninputs['remoteratio'] = remoteratio.fit_transform(inputs['remote_ratio'])\ninputs['companyloc'] = companyloc.fit_transform(inputs['company_location'])\ninputs['companysize'] = companysize.fit_transform(inputs['company_size'])",
      "metadata": {
        "trusted": true
      },
      "outputs": [],
      "execution_count": 9
    },
    {
      "id": "8428a48a-2c4c-4443-b635-df2863395e2e",
      "cell_type": "code",
      "source": "inputs",
      "metadata": {
        "trusted": true
      },
      "outputs": [
        {
          "execution_count": 10,
          "output_type": "execute_result",
          "data": {
            "text/plain": "     work_year experience_level employment_type                   job_title  \\\n0         2020               MI              FT              Data Scientist   \n1         2020               SE              FT  Machine Learning Scientist   \n2         2020               SE              FT           Big Data Engineer   \n3         2020               MI              FT        Product Data Analyst   \n4         2020               SE              FT   Machine Learning Engineer   \n..         ...              ...             ...                         ...   \n602       2022               SE              FT               Data Engineer   \n603       2022               SE              FT               Data Engineer   \n604       2022               SE              FT                Data Analyst   \n605       2022               SE              FT                Data Analyst   \n606       2022               MI              FT                AI Scientist   \n\n     remote_ratio company_location company_size  work  experiencelevel  \\\n0               0               DE            L     0                2   \n1               0               JP            S     0                3   \n2              50               GB            M     0                3   \n3               0               HN            S     0                2   \n4              50               US            L     0                3   \n..            ...              ...          ...   ...              ...   \n602           100               US            M     2                3   \n603           100               US            M     2                3   \n604             0               US            M     2                3   \n605           100               US            M     2                3   \n606           100               US            L     2                2   \n\n     employmenttype  jobtitle  remoteratio  companyloc  companysize  \n0                 2        22            0          12            0  \n1                 2        41            0          29            2  \n2                 2         7            1          18            1  \n3                 2        47            0          20            2  \n4                 2        38            1          48            0  \n..              ...       ...          ...         ...          ...  \n602               2        17            2          48            1  \n603               2        17            2          48            1  \n604               2        12            0          48            1  \n605               2        12            2          48            1  \n606               2         1            2          48            0  \n\n[607 rows x 14 columns]",
            "text/html": "<div>\n<style scoped>\n    .dataframe tbody tr th:only-of-type {\n        vertical-align: middle;\n    }\n\n    .dataframe tbody tr th {\n        vertical-align: top;\n    }\n\n    .dataframe thead th {\n        text-align: right;\n    }\n</style>\n<table border=\"1\" class=\"dataframe\">\n  <thead>\n    <tr style=\"text-align: right;\">\n      <th></th>\n      <th>work_year</th>\n      <th>experience_level</th>\n      <th>employment_type</th>\n      <th>job_title</th>\n      <th>remote_ratio</th>\n      <th>company_location</th>\n      <th>company_size</th>\n      <th>work</th>\n      <th>experiencelevel</th>\n      <th>employmenttype</th>\n      <th>jobtitle</th>\n      <th>remoteratio</th>\n      <th>companyloc</th>\n      <th>companysize</th>\n    </tr>\n  </thead>\n  <tbody>\n    <tr>\n      <th>0</th>\n      <td>2020</td>\n      <td>MI</td>\n      <td>FT</td>\n      <td>Data Scientist</td>\n      <td>0</td>\n      <td>DE</td>\n      <td>L</td>\n      <td>0</td>\n      <td>2</td>\n      <td>2</td>\n      <td>22</td>\n      <td>0</td>\n      <td>12</td>\n      <td>0</td>\n    </tr>\n    <tr>\n      <th>1</th>\n      <td>2020</td>\n      <td>SE</td>\n      <td>FT</td>\n      <td>Machine Learning Scientist</td>\n      <td>0</td>\n      <td>JP</td>\n      <td>S</td>\n      <td>0</td>\n      <td>3</td>\n      <td>2</td>\n      <td>41</td>\n      <td>0</td>\n      <td>29</td>\n      <td>2</td>\n    </tr>\n    <tr>\n      <th>2</th>\n      <td>2020</td>\n      <td>SE</td>\n      <td>FT</td>\n      <td>Big Data Engineer</td>\n      <td>50</td>\n      <td>GB</td>\n      <td>M</td>\n      <td>0</td>\n      <td>3</td>\n      <td>2</td>\n      <td>7</td>\n      <td>1</td>\n      <td>18</td>\n      <td>1</td>\n    </tr>\n    <tr>\n      <th>3</th>\n      <td>2020</td>\n      <td>MI</td>\n      <td>FT</td>\n      <td>Product Data Analyst</td>\n      <td>0</td>\n      <td>HN</td>\n      <td>S</td>\n      <td>0</td>\n      <td>2</td>\n      <td>2</td>\n      <td>47</td>\n      <td>0</td>\n      <td>20</td>\n      <td>2</td>\n    </tr>\n    <tr>\n      <th>4</th>\n      <td>2020</td>\n      <td>SE</td>\n      <td>FT</td>\n      <td>Machine Learning Engineer</td>\n      <td>50</td>\n      <td>US</td>\n      <td>L</td>\n      <td>0</td>\n      <td>3</td>\n      <td>2</td>\n      <td>38</td>\n      <td>1</td>\n      <td>48</td>\n      <td>0</td>\n    </tr>\n    <tr>\n      <th>...</th>\n      <td>...</td>\n      <td>...</td>\n      <td>...</td>\n      <td>...</td>\n      <td>...</td>\n      <td>...</td>\n      <td>...</td>\n      <td>...</td>\n      <td>...</td>\n      <td>...</td>\n      <td>...</td>\n      <td>...</td>\n      <td>...</td>\n      <td>...</td>\n    </tr>\n    <tr>\n      <th>602</th>\n      <td>2022</td>\n      <td>SE</td>\n      <td>FT</td>\n      <td>Data Engineer</td>\n      <td>100</td>\n      <td>US</td>\n      <td>M</td>\n      <td>2</td>\n      <td>3</td>\n      <td>2</td>\n      <td>17</td>\n      <td>2</td>\n      <td>48</td>\n      <td>1</td>\n    </tr>\n    <tr>\n      <th>603</th>\n      <td>2022</td>\n      <td>SE</td>\n      <td>FT</td>\n      <td>Data Engineer</td>\n      <td>100</td>\n      <td>US</td>\n      <td>M</td>\n      <td>2</td>\n      <td>3</td>\n      <td>2</td>\n      <td>17</td>\n      <td>2</td>\n      <td>48</td>\n      <td>1</td>\n    </tr>\n    <tr>\n      <th>604</th>\n      <td>2022</td>\n      <td>SE</td>\n      <td>FT</td>\n      <td>Data Analyst</td>\n      <td>0</td>\n      <td>US</td>\n      <td>M</td>\n      <td>2</td>\n      <td>3</td>\n      <td>2</td>\n      <td>12</td>\n      <td>0</td>\n      <td>48</td>\n      <td>1</td>\n    </tr>\n    <tr>\n      <th>605</th>\n      <td>2022</td>\n      <td>SE</td>\n      <td>FT</td>\n      <td>Data Analyst</td>\n      <td>100</td>\n      <td>US</td>\n      <td>M</td>\n      <td>2</td>\n      <td>3</td>\n      <td>2</td>\n      <td>12</td>\n      <td>2</td>\n      <td>48</td>\n      <td>1</td>\n    </tr>\n    <tr>\n      <th>606</th>\n      <td>2022</td>\n      <td>MI</td>\n      <td>FT</td>\n      <td>AI Scientist</td>\n      <td>100</td>\n      <td>US</td>\n      <td>L</td>\n      <td>2</td>\n      <td>2</td>\n      <td>2</td>\n      <td>1</td>\n      <td>2</td>\n      <td>48</td>\n      <td>0</td>\n    </tr>\n  </tbody>\n</table>\n<p>607 rows × 14 columns</p>\n</div>"
          },
          "metadata": {}
        }
      ],
      "execution_count": 10
    },
    {
      "id": "98e41145-1b0c-4f9d-93b6-e042a63e0679",
      "cell_type": "code",
      "source": "inputs_n = inputs.drop(['work_year','experience_level','employment_type','job_title','remote_ratio','company_location','company_size'],axis='columns')",
      "metadata": {
        "trusted": true
      },
      "outputs": [],
      "execution_count": 11
    },
    {
      "id": "911b41e7-4bf5-458a-8294-03a2910cda6a",
      "cell_type": "code",
      "source": "inputs_n",
      "metadata": {
        "trusted": true
      },
      "outputs": [
        {
          "execution_count": 12,
          "output_type": "execute_result",
          "data": {
            "text/plain": "     work  experiencelevel  employmenttype  jobtitle  remoteratio  companyloc  \\\n0       0                2               2        22            0          12   \n1       0                3               2        41            0          29   \n2       0                3               2         7            1          18   \n3       0                2               2        47            0          20   \n4       0                3               2        38            1          48   \n..    ...              ...             ...       ...          ...         ...   \n602     2                3               2        17            2          48   \n603     2                3               2        17            2          48   \n604     2                3               2        12            0          48   \n605     2                3               2        12            2          48   \n606     2                2               2         1            2          48   \n\n     companysize  \n0              0  \n1              2  \n2              1  \n3              2  \n4              0  \n..           ...  \n602            1  \n603            1  \n604            1  \n605            1  \n606            0  \n\n[607 rows x 7 columns]",
            "text/html": "<div>\n<style scoped>\n    .dataframe tbody tr th:only-of-type {\n        vertical-align: middle;\n    }\n\n    .dataframe tbody tr th {\n        vertical-align: top;\n    }\n\n    .dataframe thead th {\n        text-align: right;\n    }\n</style>\n<table border=\"1\" class=\"dataframe\">\n  <thead>\n    <tr style=\"text-align: right;\">\n      <th></th>\n      <th>work</th>\n      <th>experiencelevel</th>\n      <th>employmenttype</th>\n      <th>jobtitle</th>\n      <th>remoteratio</th>\n      <th>companyloc</th>\n      <th>companysize</th>\n    </tr>\n  </thead>\n  <tbody>\n    <tr>\n      <th>0</th>\n      <td>0</td>\n      <td>2</td>\n      <td>2</td>\n      <td>22</td>\n      <td>0</td>\n      <td>12</td>\n      <td>0</td>\n    </tr>\n    <tr>\n      <th>1</th>\n      <td>0</td>\n      <td>3</td>\n      <td>2</td>\n      <td>41</td>\n      <td>0</td>\n      <td>29</td>\n      <td>2</td>\n    </tr>\n    <tr>\n      <th>2</th>\n      <td>0</td>\n      <td>3</td>\n      <td>2</td>\n      <td>7</td>\n      <td>1</td>\n      <td>18</td>\n      <td>1</td>\n    </tr>\n    <tr>\n      <th>3</th>\n      <td>0</td>\n      <td>2</td>\n      <td>2</td>\n      <td>47</td>\n      <td>0</td>\n      <td>20</td>\n      <td>2</td>\n    </tr>\n    <tr>\n      <th>4</th>\n      <td>0</td>\n      <td>3</td>\n      <td>2</td>\n      <td>38</td>\n      <td>1</td>\n      <td>48</td>\n      <td>0</td>\n    </tr>\n    <tr>\n      <th>...</th>\n      <td>...</td>\n      <td>...</td>\n      <td>...</td>\n      <td>...</td>\n      <td>...</td>\n      <td>...</td>\n      <td>...</td>\n    </tr>\n    <tr>\n      <th>602</th>\n      <td>2</td>\n      <td>3</td>\n      <td>2</td>\n      <td>17</td>\n      <td>2</td>\n      <td>48</td>\n      <td>1</td>\n    </tr>\n    <tr>\n      <th>603</th>\n      <td>2</td>\n      <td>3</td>\n      <td>2</td>\n      <td>17</td>\n      <td>2</td>\n      <td>48</td>\n      <td>1</td>\n    </tr>\n    <tr>\n      <th>604</th>\n      <td>2</td>\n      <td>3</td>\n      <td>2</td>\n      <td>12</td>\n      <td>0</td>\n      <td>48</td>\n      <td>1</td>\n    </tr>\n    <tr>\n      <th>605</th>\n      <td>2</td>\n      <td>3</td>\n      <td>2</td>\n      <td>12</td>\n      <td>2</td>\n      <td>48</td>\n      <td>1</td>\n    </tr>\n    <tr>\n      <th>606</th>\n      <td>2</td>\n      <td>2</td>\n      <td>2</td>\n      <td>1</td>\n      <td>2</td>\n      <td>48</td>\n      <td>0</td>\n    </tr>\n  </tbody>\n</table>\n<p>607 rows × 7 columns</p>\n</div>"
          },
          "metadata": {}
        }
      ],
      "execution_count": 12
    },
    {
      "id": "aff8d4fe-ee27-4ab4-ad2d-110eb59523d1",
      "cell_type": "code",
      "source": "target",
      "metadata": {
        "trusted": true
      },
      "outputs": [
        {
          "execution_count": 13,
          "output_type": "execute_result",
          "data": {
            "text/plain": "0       70000\n1      260000\n2       85000\n3       20000\n4      150000\n        ...  \n602    154000\n603    126000\n604    129000\n605    150000\n606    200000\nName: salary, Length: 607, dtype: int64"
          },
          "metadata": {}
        }
      ],
      "execution_count": 13
    },
    {
      "id": "6498ffef-f7c7-4fb0-aac3-13d55e47f5e4",
      "cell_type": "code",
      "source": "from sklearn import tree\nmodel = tree.DecisionTreeClassifier()",
      "metadata": {
        "trusted": true
      },
      "outputs": [],
      "execution_count": 14
    },
    {
      "id": "6043a081-9328-4627-8027-27d10317a781",
      "cell_type": "code",
      "source": "model.fit(inputs_n,target)",
      "metadata": {
        "trusted": true
      },
      "outputs": [
        {
          "execution_count": 15,
          "output_type": "execute_result",
          "data": {
            "text/plain": "DecisionTreeClassifier()",
            "text/html": "<style>#sk-container-id-1 {color: black;}#sk-container-id-1 pre{padding: 0;}#sk-container-id-1 div.sk-toggleable {background-color: white;}#sk-container-id-1 label.sk-toggleable__label {cursor: pointer;display: block;width: 100%;margin-bottom: 0;padding: 0.3em;box-sizing: border-box;text-align: center;}#sk-container-id-1 label.sk-toggleable__label-arrow:before {content: \"▸\";float: left;margin-right: 0.25em;color: #696969;}#sk-container-id-1 label.sk-toggleable__label-arrow:hover:before {color: black;}#sk-container-id-1 div.sk-estimator:hover label.sk-toggleable__label-arrow:before {color: black;}#sk-container-id-1 div.sk-toggleable__content {max-height: 0;max-width: 0;overflow: hidden;text-align: left;background-color: #f0f8ff;}#sk-container-id-1 div.sk-toggleable__content pre {margin: 0.2em;color: black;border-radius: 0.25em;background-color: #f0f8ff;}#sk-container-id-1 input.sk-toggleable__control:checked~div.sk-toggleable__content {max-height: 200px;max-width: 100%;overflow: auto;}#sk-container-id-1 input.sk-toggleable__control:checked~label.sk-toggleable__label-arrow:before {content: \"▾\";}#sk-container-id-1 div.sk-estimator input.sk-toggleable__control:checked~label.sk-toggleable__label {background-color: #d4ebff;}#sk-container-id-1 div.sk-label input.sk-toggleable__control:checked~label.sk-toggleable__label {background-color: #d4ebff;}#sk-container-id-1 input.sk-hidden--visually {border: 0;clip: rect(1px 1px 1px 1px);clip: rect(1px, 1px, 1px, 1px);height: 1px;margin: -1px;overflow: hidden;padding: 0;position: absolute;width: 1px;}#sk-container-id-1 div.sk-estimator {font-family: monospace;background-color: #f0f8ff;border: 1px dotted black;border-radius: 0.25em;box-sizing: border-box;margin-bottom: 0.5em;}#sk-container-id-1 div.sk-estimator:hover {background-color: #d4ebff;}#sk-container-id-1 div.sk-parallel-item::after {content: \"\";width: 100%;border-bottom: 1px solid gray;flex-grow: 1;}#sk-container-id-1 div.sk-label:hover label.sk-toggleable__label {background-color: #d4ebff;}#sk-container-id-1 div.sk-serial::before {content: \"\";position: absolute;border-left: 1px solid gray;box-sizing: border-box;top: 0;bottom: 0;left: 50%;z-index: 0;}#sk-container-id-1 div.sk-serial {display: flex;flex-direction: column;align-items: center;background-color: white;padding-right: 0.2em;padding-left: 0.2em;position: relative;}#sk-container-id-1 div.sk-item {position: relative;z-index: 1;}#sk-container-id-1 div.sk-parallel {display: flex;align-items: stretch;justify-content: center;background-color: white;position: relative;}#sk-container-id-1 div.sk-item::before, #sk-container-id-1 div.sk-parallel-item::before {content: \"\";position: absolute;border-left: 1px solid gray;box-sizing: border-box;top: 0;bottom: 0;left: 50%;z-index: -1;}#sk-container-id-1 div.sk-parallel-item {display: flex;flex-direction: column;z-index: 1;position: relative;background-color: white;}#sk-container-id-1 div.sk-parallel-item:first-child::after {align-self: flex-end;width: 50%;}#sk-container-id-1 div.sk-parallel-item:last-child::after {align-self: flex-start;width: 50%;}#sk-container-id-1 div.sk-parallel-item:only-child::after {width: 0;}#sk-container-id-1 div.sk-dashed-wrapped {border: 1px dashed gray;margin: 0 0.4em 0.5em 0.4em;box-sizing: border-box;padding-bottom: 0.4em;background-color: white;}#sk-container-id-1 div.sk-label label {font-family: monospace;font-weight: bold;display: inline-block;line-height: 1.2em;}#sk-container-id-1 div.sk-label-container {text-align: center;}#sk-container-id-1 div.sk-container {/* jupyter's `normalize.less` sets `[hidden] { display: none; }` but bootstrap.min.css set `[hidden] { display: none !important; }` so we also need the `!important` here to be able to override the default hidden behavior on the sphinx rendered scikit-learn.org. See: https://github.com/scikit-learn/scikit-learn/issues/21755 */display: inline-block !important;position: relative;}#sk-container-id-1 div.sk-text-repr-fallback {display: none;}</style><div id=\"sk-container-id-1\" class=\"sk-top-container\"><div class=\"sk-text-repr-fallback\"><pre>DecisionTreeClassifier()</pre><b>In a Jupyter environment, please rerun this cell to show the HTML representation or trust the notebook. <br />On GitHub, the HTML representation is unable to render, please try loading this page with nbviewer.org.</b></div><div class=\"sk-container\" hidden><div class=\"sk-item\"><div class=\"sk-estimator sk-toggleable\"><input class=\"sk-toggleable__control sk-hidden--visually\" id=\"sk-estimator-id-1\" type=\"checkbox\" checked><label for=\"sk-estimator-id-1\" class=\"sk-toggleable__label sk-toggleable__label-arrow\">DecisionTreeClassifier</label><div class=\"sk-toggleable__content\"><pre>DecisionTreeClassifier()</pre></div></div></div></div></div>"
          },
          "metadata": {}
        }
      ],
      "execution_count": 15
    },
    {
      "id": "11ae70e2-9248-4ee6-b0dc-089445255162",
      "cell_type": "code",
      "source": "model.score(inputs_n,target)",
      "metadata": {
        "trusted": true
      },
      "outputs": [
        {
          "execution_count": 16,
          "output_type": "execute_result",
          "data": {
            "text/plain": "0.6326194398682042"
          },
          "metadata": {}
        }
      ],
      "execution_count": 16
    },
    {
      "id": "a4c65a19-794a-4b7e-baf6-5c89084f6251",
      "cell_type": "code",
      "source": "",
      "metadata": {
        "trusted": true
      },
      "outputs": [],
      "execution_count": null
    }
  ]
}